{
  "nbformat": 4,
  "nbformat_minor": 0,
  "metadata": {
    "colab": {
      "provenance": []
    },
    "kernelspec": {
      "name": "python3",
      "display_name": "Python 3"
    },
    "language_info": {
      "name": "python"
    }
  },
  "cells": [
    {
      "cell_type": "code",
      "execution_count": null,
      "metadata": {
        "id": "dxPZgIMO6wBB"
      },
      "outputs": [],
      "source": [
        "'''\n",
        "In this project, I will use the results from my LinkedIn job postings web scraper project which you can find in this \n",
        "repository https://github.com/ayanwu98/LinkedIn-Jobs-Web-Scraper-Project and perform data cleaning with Pandas and \n",
        "after the data has been cleaned up, I will perform some data explotarion to extract interesting information regarding the \n",
        "Data Science job market.\n",
        "\n",
        "'''\n",
        "\n",
        "# We first import the necessary libraries which are pandas and sqlite3 \n",
        "\n",
        "import pandas as pd\n",
        "import sqlite3 as sql"
      ]
    },
    {
      "cell_type": "code",
      "source": [
        "# We create a Pandas Dataframe from the results obtained in the web scraping project\n",
        "\n",
        "df = pd.read_csv('/content/linkedinwebscraper.csv')"
      ],
      "metadata": {
        "id": "imkhx-8b6zZn"
      },
      "execution_count": null,
      "outputs": []
    },
    {
      "cell_type": "code",
      "source": [
        "# We check the general information about our data frame. We see that there are no null values, so \n",
        "# we will not need to fill or drop rows with null values\n",
        "\n",
        "df.info()"
      ],
      "metadata": {
        "colab": {
          "base_uri": "https://localhost:8080/"
        },
        "id": "OB46mQWn699s",
        "outputId": "feb34160-197c-44ba-8e66-9d39011aaa32"
      },
      "execution_count": null,
      "outputs": [
        {
          "output_type": "stream",
          "name": "stdout",
          "text": [
            "<class 'pandas.core.frame.DataFrame'>\n",
            "RangeIndex: 900 entries, 0 to 899\n",
            "Data columns (total 11 columns):\n",
            " #   Column            Non-Null Count  Dtype \n",
            "---  ------            --------------  ----- \n",
            " 0   Company           900 non-null    object\n",
            " 1   Job_Title         900 non-null    object\n",
            " 2   Location          900 non-null    object\n",
            " 3   Seniority_level   900 non-null    object\n",
            " 4   Python            900 non-null    bool  \n",
            " 5   SQL               900 non-null    bool  \n",
            " 6   R                 900 non-null    bool  \n",
            " 7   Excel             900 non-null    bool  \n",
            " 8   Tableau           900 non-null    bool  \n",
            " 9   Power_BI          900 non-null    bool  \n",
            " 10  Machine_Learning  900 non-null    bool  \n",
            "dtypes: bool(7), object(4)\n",
            "memory usage: 34.4+ KB\n"
          ]
        }
      ]
    },
    {
      "cell_type": "code",
      "source": [
        "# Now, we will first explore job locations\n",
        "# We see that the majority of jobs are located in the cities of Toronto, Vancouver, and Montreal.\n",
        "df['Location'].value_counts()"
      ],
      "metadata": {
        "colab": {
          "base_uri": "https://localhost:8080/"
        },
        "id": "Bx3hFatfg1Y3",
        "outputId": "f16c9c70-d486-4183-f5a2-8b203f562e76"
      },
      "execution_count": null,
      "outputs": [
        {
          "output_type": "execute_result",
          "data": {
            "text/plain": [
              "Toronto, Ontario, Canada                 267\n",
              "Vancouver, British Columbia, Canada      116\n",
              "Montreal, Quebec, Canada                 105\n",
              "Canada                                    47\n",
              "Ottawa, Ontario, Canada                   40\n",
              "                                        ... \n",
              "Surrey, British Columbia, Canada           1\n",
              "Peterborough, Ontario, Canada              1\n",
              "Lethbridge, Alberta, Canada                1\n",
              "Newmarket, Ontario, Canada                 1\n",
              "St-Jean-Sur-Richelieu, Quebec, Canada      1\n",
              "Name: Location, Length: 81, dtype: int64"
            ]
          },
          "metadata": {},
          "execution_count": 5
        }
      ]
    },
    {
      "cell_type": "code",
      "source": [
        "# However, notice that there are 47 jobs in \"Canada\". Since Toronto is the city with the most jobs\n",
        "# We will set the jobs in \"Canada\" to be in \"Toronto\".\n",
        "for job in range(len(df)):\n",
        "  if df['Location'][job] == 'Canada':\n",
        "    df['Location'][job] = 'Toronto, Ontario, Canada'"
      ],
      "metadata": {
        "colab": {
          "base_uri": "https://localhost:8080/"
        },
        "id": "zFeGYkrOiElM",
        "outputId": "83bacad0-2ad6-4744-9d44-52e9f109f793"
      },
      "execution_count": null,
      "outputs": [
        {
          "output_type": "stream",
          "name": "stderr",
          "text": [
            "<ipython-input-6-b7460c4d1c88>:5: SettingWithCopyWarning: \n",
            "A value is trying to be set on a copy of a slice from a DataFrame\n",
            "\n",
            "See the caveats in the documentation: https://pandas.pydata.org/pandas-docs/stable/user_guide/indexing.html#returning-a-view-versus-a-copy\n",
            "  df['Location'][job] = 'Toronto, Ontario, Canada'\n"
          ]
        }
      ]
    },
    {
      "cell_type": "code",
      "source": [
        "# Now, while there are 900 jobs, some of them do not appear to be Data Science related. For instance, some of them are software engineering.\n",
        "# We will then filter out this jobs.\n",
        "\n",
        "for job in range(len(df)):\n",
        "  if (('computer vision'.casefold() not in df['Job_Title'][job].casefold()) and ('nlp'.casefold() not in df['Job_Title'][job].casefold()) and ('data'.casefold() not in df['Job_Title'][job].casefold()) and ('Machine learning'.casefold() not in df['Job_Title'][job].casefold())):\n",
        "    df = df.drop(index=job)\n",
        "df.reset_index(drop=True)"
      ],
      "metadata": {
        "colab": {
          "base_uri": "https://localhost:8080/",
          "height": 582
        },
        "id": "qe3u715fiIas",
        "outputId": "ba1e3e4d-8e7f-4003-c00b-498acd25fc27"
      },
      "execution_count": null,
      "outputs": [
        {
          "output_type": "execute_result",
          "data": {
            "text/plain": [
              "                             Company  \\\n",
              "0                  ISAAC Instruments   \n",
              "1                       FPT Software   \n",
              "2                      Ample Insight   \n",
              "3              Zany Consulting Group   \n",
              "4                          Outdefine   \n",
              "..                               ...   \n",
              "238  Falcon Smart IT (FalconSmartIT)   \n",
              "239                          Binance   \n",
              "240                  Tiger Analytics   \n",
              "241                             Brex   \n",
              "242                             Brex   \n",
              "\n",
              "                                             Job_Title  \\\n",
              "0                                       Data Scientist   \n",
              "1                                       Data Scientist   \n",
              "2    Data Scientist - Data Analytics and Infrastruc...   \n",
              "3                                       Data Scientist   \n",
              "4                                       Data Scientist   \n",
              "..                                                 ...   \n",
              "238                                  Big Data Engineer   \n",
              "239  Senior Machine Learning Engineer (Anomaly Dete...   \n",
              "240                                Data Engineer - AWS   \n",
              "241  Staff Software Engineer, Machine Learning Plat...   \n",
              "242  Staff Software Engineer, Machine Learning Plat...   \n",
              "\n",
              "                                    Location   Seniority_level  Python    SQL  \\\n",
              "0    St-Bruno-de-Montarville, Quebec, Canada         Associate    True   True   \n",
              "1                   Toronto, Ontario, Canada  Mid-Senior level    True   True   \n",
              "2                   Toronto, Ontario, Canada  Mid-Senior level    True   True   \n",
              "3                   Toronto, Ontario, Canada  Mid-Senior level    True  False   \n",
              "4                   Toronto, Ontario, Canada  Mid-Senior level   False  False   \n",
              "..                                       ...               ...     ...    ...   \n",
              "238                 Toronto, Ontario, Canada       Entry level    True   True   \n",
              "239      Vancouver, British Columbia, Canada  Mid-Senior level    True  False   \n",
              "240                 Toronto, Ontario, Canada         Associate    True   True   \n",
              "241                 Toronto, Ontario, Canada  Mid-Senior level    True   True   \n",
              "242                 Toronto, Ontario, Canada  Mid-Senior level    True   True   \n",
              "\n",
              "         R  Excel  Tableau  Power_BI  Machine_Learning  \n",
              "0    False   True    False     False              True  \n",
              "1    False  False    False     False              True  \n",
              "2    False  False    False     False             False  \n",
              "3    False  False    False     False             False  \n",
              "4    False  False    False     False             False  \n",
              "..     ...    ...      ...       ...               ...  \n",
              "238  False  False    False     False             False  \n",
              "239  False  False    False     False              True  \n",
              "240  False   True    False     False              True  \n",
              "241  False  False    False     False             False  \n",
              "242  False  False    False     False             False  \n",
              "\n",
              "[243 rows x 11 columns]"
            ],
            "text/html": [
              "\n",
              "  <div id=\"df-886bcebd-1b8b-4a12-817b-215d23459f03\">\n",
              "    <div class=\"colab-df-container\">\n",
              "      <div>\n",
              "<style scoped>\n",
              "    .dataframe tbody tr th:only-of-type {\n",
              "        vertical-align: middle;\n",
              "    }\n",
              "\n",
              "    .dataframe tbody tr th {\n",
              "        vertical-align: top;\n",
              "    }\n",
              "\n",
              "    .dataframe thead th {\n",
              "        text-align: right;\n",
              "    }\n",
              "</style>\n",
              "<table border=\"1\" class=\"dataframe\">\n",
              "  <thead>\n",
              "    <tr style=\"text-align: right;\">\n",
              "      <th></th>\n",
              "      <th>Company</th>\n",
              "      <th>Job_Title</th>\n",
              "      <th>Location</th>\n",
              "      <th>Seniority_level</th>\n",
              "      <th>Python</th>\n",
              "      <th>SQL</th>\n",
              "      <th>R</th>\n",
              "      <th>Excel</th>\n",
              "      <th>Tableau</th>\n",
              "      <th>Power_BI</th>\n",
              "      <th>Machine_Learning</th>\n",
              "    </tr>\n",
              "  </thead>\n",
              "  <tbody>\n",
              "    <tr>\n",
              "      <th>0</th>\n",
              "      <td>ISAAC Instruments</td>\n",
              "      <td>Data Scientist</td>\n",
              "      <td>St-Bruno-de-Montarville, Quebec, Canada</td>\n",
              "      <td>Associate</td>\n",
              "      <td>True</td>\n",
              "      <td>True</td>\n",
              "      <td>False</td>\n",
              "      <td>True</td>\n",
              "      <td>False</td>\n",
              "      <td>False</td>\n",
              "      <td>True</td>\n",
              "    </tr>\n",
              "    <tr>\n",
              "      <th>1</th>\n",
              "      <td>FPT Software</td>\n",
              "      <td>Data Scientist</td>\n",
              "      <td>Toronto, Ontario, Canada</td>\n",
              "      <td>Mid-Senior level</td>\n",
              "      <td>True</td>\n",
              "      <td>True</td>\n",
              "      <td>False</td>\n",
              "      <td>False</td>\n",
              "      <td>False</td>\n",
              "      <td>False</td>\n",
              "      <td>True</td>\n",
              "    </tr>\n",
              "    <tr>\n",
              "      <th>2</th>\n",
              "      <td>Ample Insight</td>\n",
              "      <td>Data Scientist - Data Analytics and Infrastruc...</td>\n",
              "      <td>Toronto, Ontario, Canada</td>\n",
              "      <td>Mid-Senior level</td>\n",
              "      <td>True</td>\n",
              "      <td>True</td>\n",
              "      <td>False</td>\n",
              "      <td>False</td>\n",
              "      <td>False</td>\n",
              "      <td>False</td>\n",
              "      <td>False</td>\n",
              "    </tr>\n",
              "    <tr>\n",
              "      <th>3</th>\n",
              "      <td>Zany Consulting Group</td>\n",
              "      <td>Data Scientist</td>\n",
              "      <td>Toronto, Ontario, Canada</td>\n",
              "      <td>Mid-Senior level</td>\n",
              "      <td>True</td>\n",
              "      <td>False</td>\n",
              "      <td>False</td>\n",
              "      <td>False</td>\n",
              "      <td>False</td>\n",
              "      <td>False</td>\n",
              "      <td>False</td>\n",
              "    </tr>\n",
              "    <tr>\n",
              "      <th>4</th>\n",
              "      <td>Outdefine</td>\n",
              "      <td>Data Scientist</td>\n",
              "      <td>Toronto, Ontario, Canada</td>\n",
              "      <td>Mid-Senior level</td>\n",
              "      <td>False</td>\n",
              "      <td>False</td>\n",
              "      <td>False</td>\n",
              "      <td>False</td>\n",
              "      <td>False</td>\n",
              "      <td>False</td>\n",
              "      <td>False</td>\n",
              "    </tr>\n",
              "    <tr>\n",
              "      <th>...</th>\n",
              "      <td>...</td>\n",
              "      <td>...</td>\n",
              "      <td>...</td>\n",
              "      <td>...</td>\n",
              "      <td>...</td>\n",
              "      <td>...</td>\n",
              "      <td>...</td>\n",
              "      <td>...</td>\n",
              "      <td>...</td>\n",
              "      <td>...</td>\n",
              "      <td>...</td>\n",
              "    </tr>\n",
              "    <tr>\n",
              "      <th>238</th>\n",
              "      <td>Falcon Smart IT (FalconSmartIT)</td>\n",
              "      <td>Big Data Engineer</td>\n",
              "      <td>Toronto, Ontario, Canada</td>\n",
              "      <td>Entry level</td>\n",
              "      <td>True</td>\n",
              "      <td>True</td>\n",
              "      <td>False</td>\n",
              "      <td>False</td>\n",
              "      <td>False</td>\n",
              "      <td>False</td>\n",
              "      <td>False</td>\n",
              "    </tr>\n",
              "    <tr>\n",
              "      <th>239</th>\n",
              "      <td>Binance</td>\n",
              "      <td>Senior Machine Learning Engineer (Anomaly Dete...</td>\n",
              "      <td>Vancouver, British Columbia, Canada</td>\n",
              "      <td>Mid-Senior level</td>\n",
              "      <td>True</td>\n",
              "      <td>False</td>\n",
              "      <td>False</td>\n",
              "      <td>False</td>\n",
              "      <td>False</td>\n",
              "      <td>False</td>\n",
              "      <td>True</td>\n",
              "    </tr>\n",
              "    <tr>\n",
              "      <th>240</th>\n",
              "      <td>Tiger Analytics</td>\n",
              "      <td>Data Engineer - AWS</td>\n",
              "      <td>Toronto, Ontario, Canada</td>\n",
              "      <td>Associate</td>\n",
              "      <td>True</td>\n",
              "      <td>True</td>\n",
              "      <td>False</td>\n",
              "      <td>True</td>\n",
              "      <td>False</td>\n",
              "      <td>False</td>\n",
              "      <td>True</td>\n",
              "    </tr>\n",
              "    <tr>\n",
              "      <th>241</th>\n",
              "      <td>Brex</td>\n",
              "      <td>Staff Software Engineer, Machine Learning Plat...</td>\n",
              "      <td>Toronto, Ontario, Canada</td>\n",
              "      <td>Mid-Senior level</td>\n",
              "      <td>True</td>\n",
              "      <td>True</td>\n",
              "      <td>False</td>\n",
              "      <td>False</td>\n",
              "      <td>False</td>\n",
              "      <td>False</td>\n",
              "      <td>False</td>\n",
              "    </tr>\n",
              "    <tr>\n",
              "      <th>242</th>\n",
              "      <td>Brex</td>\n",
              "      <td>Staff Software Engineer, Machine Learning Plat...</td>\n",
              "      <td>Toronto, Ontario, Canada</td>\n",
              "      <td>Mid-Senior level</td>\n",
              "      <td>True</td>\n",
              "      <td>True</td>\n",
              "      <td>False</td>\n",
              "      <td>False</td>\n",
              "      <td>False</td>\n",
              "      <td>False</td>\n",
              "      <td>False</td>\n",
              "    </tr>\n",
              "  </tbody>\n",
              "</table>\n",
              "<p>243 rows × 11 columns</p>\n",
              "</div>\n",
              "      <button class=\"colab-df-convert\" onclick=\"convertToInteractive('df-886bcebd-1b8b-4a12-817b-215d23459f03')\"\n",
              "              title=\"Convert this dataframe to an interactive table.\"\n",
              "              style=\"display:none;\">\n",
              "        \n",
              "  <svg xmlns=\"http://www.w3.org/2000/svg\" height=\"24px\"viewBox=\"0 0 24 24\"\n",
              "       width=\"24px\">\n",
              "    <path d=\"M0 0h24v24H0V0z\" fill=\"none\"/>\n",
              "    <path d=\"M18.56 5.44l.94 2.06.94-2.06 2.06-.94-2.06-.94-.94-2.06-.94 2.06-2.06.94zm-11 1L8.5 8.5l.94-2.06 2.06-.94-2.06-.94L8.5 2.5l-.94 2.06-2.06.94zm10 10l.94 2.06.94-2.06 2.06-.94-2.06-.94-.94-2.06-.94 2.06-2.06.94z\"/><path d=\"M17.41 7.96l-1.37-1.37c-.4-.4-.92-.59-1.43-.59-.52 0-1.04.2-1.43.59L10.3 9.45l-7.72 7.72c-.78.78-.78 2.05 0 2.83L4 21.41c.39.39.9.59 1.41.59.51 0 1.02-.2 1.41-.59l7.78-7.78 2.81-2.81c.8-.78.8-2.07 0-2.86zM5.41 20L4 18.59l7.72-7.72 1.47 1.35L5.41 20z\"/>\n",
              "  </svg>\n",
              "      </button>\n",
              "      \n",
              "  <style>\n",
              "    .colab-df-container {\n",
              "      display:flex;\n",
              "      flex-wrap:wrap;\n",
              "      gap: 12px;\n",
              "    }\n",
              "\n",
              "    .colab-df-convert {\n",
              "      background-color: #E8F0FE;\n",
              "      border: none;\n",
              "      border-radius: 50%;\n",
              "      cursor: pointer;\n",
              "      display: none;\n",
              "      fill: #1967D2;\n",
              "      height: 32px;\n",
              "      padding: 0 0 0 0;\n",
              "      width: 32px;\n",
              "    }\n",
              "\n",
              "    .colab-df-convert:hover {\n",
              "      background-color: #E2EBFA;\n",
              "      box-shadow: 0px 1px 2px rgba(60, 64, 67, 0.3), 0px 1px 3px 1px rgba(60, 64, 67, 0.15);\n",
              "      fill: #174EA6;\n",
              "    }\n",
              "\n",
              "    [theme=dark] .colab-df-convert {\n",
              "      background-color: #3B4455;\n",
              "      fill: #D2E3FC;\n",
              "    }\n",
              "\n",
              "    [theme=dark] .colab-df-convert:hover {\n",
              "      background-color: #434B5C;\n",
              "      box-shadow: 0px 1px 3px 1px rgba(0, 0, 0, 0.15);\n",
              "      filter: drop-shadow(0px 1px 2px rgba(0, 0, 0, 0.3));\n",
              "      fill: #FFFFFF;\n",
              "    }\n",
              "  </style>\n",
              "\n",
              "      <script>\n",
              "        const buttonEl =\n",
              "          document.querySelector('#df-886bcebd-1b8b-4a12-817b-215d23459f03 button.colab-df-convert');\n",
              "        buttonEl.style.display =\n",
              "          google.colab.kernel.accessAllowed ? 'block' : 'none';\n",
              "\n",
              "        async function convertToInteractive(key) {\n",
              "          const element = document.querySelector('#df-886bcebd-1b8b-4a12-817b-215d23459f03');\n",
              "          const dataTable =\n",
              "            await google.colab.kernel.invokeFunction('convertToInteractive',\n",
              "                                                     [key], {});\n",
              "          if (!dataTable) return;\n",
              "\n",
              "          const docLinkHtml = 'Like what you see? Visit the ' +\n",
              "            '<a target=\"_blank\" href=https://colab.research.google.com/notebooks/data_table.ipynb>data table notebook</a>'\n",
              "            + ' to learn more about interactive tables.';\n",
              "          element.innerHTML = '';\n",
              "          dataTable['output_type'] = 'display_data';\n",
              "          await google.colab.output.renderOutput(dataTable, element);\n",
              "          const docLink = document.createElement('div');\n",
              "          docLink.innerHTML = docLinkHtml;\n",
              "          element.appendChild(docLink);\n",
              "        }\n",
              "      </script>\n",
              "    </div>\n",
              "  </div>\n",
              "  "
            ]
          },
          "metadata": {},
          "execution_count": 7
        }
      ]
    },
    {
      "cell_type": "code",
      "source": [
        "# We proceed to drop duplicates\n",
        "\n",
        "df = df.drop_duplicates()\n",
        "df = df.reset_index(drop=True)"
      ],
      "metadata": {
        "id": "kTmUKj-6kE2E"
      },
      "execution_count": null,
      "outputs": []
    },
    {
      "cell_type": "code",
      "source": [
        "# We can see now that we end up with 204 unique jobs that are in the field of Data Science.\n",
        "df.info()"
      ],
      "metadata": {
        "colab": {
          "base_uri": "https://localhost:8080/"
        },
        "id": "mrxs67GJkStC",
        "outputId": "b958ad77-172f-4a79-fbd0-86eb41b28a0c"
      },
      "execution_count": null,
      "outputs": [
        {
          "output_type": "stream",
          "name": "stdout",
          "text": [
            "<class 'pandas.core.frame.DataFrame'>\n",
            "RangeIndex: 204 entries, 0 to 203\n",
            "Data columns (total 11 columns):\n",
            " #   Column            Non-Null Count  Dtype \n",
            "---  ------            --------------  ----- \n",
            " 0   Company           204 non-null    object\n",
            " 1   Job_Title         204 non-null    object\n",
            " 2   Location          204 non-null    object\n",
            " 3   Seniority_level   204 non-null    object\n",
            " 4   Python            204 non-null    bool  \n",
            " 5   SQL               204 non-null    bool  \n",
            " 6   R                 204 non-null    bool  \n",
            " 7   Excel             204 non-null    bool  \n",
            " 8   Tableau           204 non-null    bool  \n",
            " 9   Power_BI          204 non-null    bool  \n",
            " 10  Machine_Learning  204 non-null    bool  \n",
            "dtypes: bool(7), object(4)\n",
            "memory usage: 7.9+ KB\n"
          ]
        }
      ]
    },
    {
      "cell_type": "code",
      "source": [
        "# Now we create an csv file with the clean data\n",
        "df.to_csv('linkedin_jobs_cleaned.csv', index=False)"
      ],
      "metadata": {
        "id": "ZZDY_rrWkWvf"
      },
      "execution_count": null,
      "outputs": []
    },
    {
      "cell_type": "code",
      "source": [
        "# We will now proceed to perform data explotarion with SQL. \n",
        "# We will perform SQL queries in Python using the sqlite3 library.\n",
        "\n",
        "# We first create a database named 'data_jobs'\n",
        "conn = sql.connect('data_jobs.db')\n",
        "c = conn.cursor()\n",
        "\n",
        "# Now we create a table named jobs with the same columns.\n",
        "c.execute(\"CREATE TABLE jobs(Company,Job_Title, Location, Seniority_level, Python, SQL, R , Excel, Tableau, Power_BI, Machine_Learning)\")\n",
        "jobs = pd.read_csv('/content/linkedin_jobs_cleaned.csv')\n",
        "jobs.to_sql('jobs', conn, if_exists='append', index= False)\n"
      ],
      "metadata": {
        "colab": {
          "base_uri": "https://localhost:8080/"
        },
        "id": "EC7MgS4AlTmK",
        "outputId": "7fcb9d8e-c39f-4eab-9793-422f7bd1f7bb"
      },
      "execution_count": null,
      "outputs": [
        {
          "output_type": "execute_result",
          "data": {
            "text/plain": [
              "204"
            ]
          },
          "metadata": {},
          "execution_count": 11
        }
      ]
    },
    {
      "cell_type": "code",
      "source": [
        "# As a first interesting query, we will see how many jobs there are that only require Excel and one of the BI tools.\n",
        "\n",
        "# Now we select the jobs that are entry level and require excel and tableau or power BI skills.\n",
        "# Not surprisingly, there is only one job. \n",
        "\n",
        "c.execute('''SELECT company, job_title\n",
        "             FROM jobs\n",
        "             WHERE (Seniority_level like '%entry%' AND (Excel AND tableau = TRUE) AND (Python AND R AND POWER_BI AND MACHINE_LEARNING = FALSE))\n",
        "             OR (Seniority_level like '%entry%' AND (Excel AND power_BI = TRUE) AND (Python AND R AND tableau AND MACHINE_LEARNING = FALSE))\n",
        "''')\n",
        "c.fetchall()"
      ],
      "metadata": {
        "colab": {
          "base_uri": "https://localhost:8080/"
        },
        "id": "IDU6Z0XLFnY9",
        "outputId": "e93aace8-bd51-476a-f331-690d7108b06a"
      },
      "execution_count": null,
      "outputs": [
        {
          "output_type": "execute_result",
          "data": {
            "text/plain": [
              "[('Mier Human Capital', 'Data Scientist')]"
            ]
          },
          "metadata": {},
          "execution_count": 12
        }
      ]
    },
    {
      "cell_type": "code",
      "source": [
        "# Now, we will extract the amount of jobs that require each skill\n",
        "# We use a for loop to extract the amount of jobs requiring each individual skill\n",
        "# We first create a list with the names of the skills\n",
        "\n",
        "skills = ['Python', 'SQL', 'R' , 'Excel', 'Tableau', 'Power_BI', 'Machine_Learning']\n",
        "number_jobs = []\n",
        "for skill in range(len(skills)):\n",
        "  c.execute('''SELECT count(company)\n",
        "                FROM jobs\n",
        "                WHERE {} = TRUE\n",
        "  '''.format(skills[skill]))\n",
        "  number_job = str(c.fetchall()[0]).replace('(','').replace(')','').replace(',','')\n",
        "  number_jobs.append(number_job)\n",
        "  print(f'''\n",
        "  Skill: {skills[skill]}    \n",
        "  Number of jobs: {number_job}\n",
        "  ''')\n"
      ],
      "metadata": {
        "colab": {
          "base_uri": "https://localhost:8080/"
        },
        "id": "NGEM4sxfFwK8",
        "outputId": "da01b28c-5a33-4b36-f2dc-9652df9dea21"
      },
      "execution_count": null,
      "outputs": [
        {
          "output_type": "stream",
          "name": "stdout",
          "text": [
            "\n",
            "  Skill: Python    \n",
            "  Number of jobs: 160\n",
            "  \n",
            "\n",
            "  Skill: SQL    \n",
            "  Number of jobs: 104\n",
            "  \n",
            "\n",
            "  Skill: R    \n",
            "  Number of jobs: 15\n",
            "  \n",
            "\n",
            "  Skill: Excel    \n",
            "  Number of jobs: 85\n",
            "  \n",
            "\n",
            "  Skill: Tableau    \n",
            "  Number of jobs: 33\n",
            "  \n",
            "\n",
            "  Skill: Power_BI    \n",
            "  Number of jobs: 13\n",
            "  \n",
            "\n",
            "  Skill: Machine_Learning    \n",
            "  Number of jobs: 136\n",
            "  \n"
          ]
        }
      ]
    },
    {
      "cell_type": "code",
      "source": [
        "for i in range(len(number_jobs)):\n",
        "  int(number_jobs[i])"
      ],
      "metadata": {
        "id": "efer_gzm5lOy"
      },
      "execution_count": null,
      "outputs": []
    },
    {
      "cell_type": "code",
      "source": [
        "# We create a csv with the information collected \n",
        "\n",
        "skills_df = pd.DataFrame({'skills': skills})\n",
        "skills_df['number_of_jobs'] = number_jobs"
      ],
      "metadata": {
        "id": "kt_FBsZk2-Sp"
      },
      "execution_count": null,
      "outputs": []
    },
    {
      "cell_type": "code",
      "source": [
        "skills_df.to_csv('number_of_jobs_per_skill.csv')"
      ],
      "metadata": {
        "id": "j8utTiS33p_m"
      },
      "execution_count": null,
      "outputs": []
    },
    {
      "cell_type": "code",
      "source": [
        "# We now write a query to see the number of jobs located in the cities of Toronto, Montreal, Vancouver, and Ottawa \n",
        "# since these are the cities with the most amount of jobs.\n",
        "\n",
        "cities = ['Toronto', 'Montreal','Vancouver', 'Ottawa']\n",
        "jobs_in_cities = []\n",
        "for city in range(len(cities)):\n",
        "  c.execute('''SELECT count(company)\n",
        "                FROM jobs\n",
        "                WHERE location like '%{}%'\n",
        "  '''.format(cities[city]))\n",
        "  jobs_in_city = str(c.fetchall()[0]).replace('(','').replace(')','').replace(',','')\n",
        "  jobs_in_cities.append(jobs_in_city)\n",
        "  print(f'''\n",
        "  City: {cities[city]}    \n",
        "  Number of jobs: {jobs_in_city}\n",
        "  ''')"
      ],
      "metadata": {
        "colab": {
          "base_uri": "https://localhost:8080/"
        },
        "id": "NMRWRt61GGMF",
        "outputId": "ddcd959e-c8c3-47a6-af04-70853d07ec8f"
      },
      "execution_count": null,
      "outputs": [
        {
          "output_type": "stream",
          "name": "stdout",
          "text": [
            "\n",
            "  City: Toronto    \n",
            "  Number of jobs: 92\n",
            "  \n",
            "\n",
            "  City: Montreal    \n",
            "  Number of jobs: 23\n",
            "  \n",
            "\n",
            "  City: Vancouver    \n",
            "  Number of jobs: 32\n",
            "  \n",
            "\n",
            "  City: Ottawa    \n",
            "  Number of jobs: 6\n",
            "  \n"
          ]
        }
      ]
    },
    {
      "cell_type": "code",
      "source": [
        "for i in range(len(jobs_in_cities)):\n",
        "  int(jobs_in_cities[i])"
      ],
      "metadata": {
        "id": "GQH83r3I7xGR"
      },
      "execution_count": null,
      "outputs": []
    },
    {
      "cell_type": "code",
      "source": [
        "# We create a csv with the information collected \n",
        "\n",
        "cities_df = pd.DataFrame({'cities': cities})\n",
        "cities_df['number_of_jobs'] = jobs_in_cities\n",
        "cities_df.to_csv('number_of_jobs_per_city.csv')"
      ],
      "metadata": {
        "id": "HymCs1rG73_g"
      },
      "execution_count": null,
      "outputs": []
    },
    {
      "cell_type": "code",
      "source": [
        "\"\"\" We now write a query to see the number of jobs located in the cities of Toronto, Montreal, and Vancouver.\n",
        "    But before we can do so, we need to extract a list of the different seniority levels.\n",
        "\n",
        "    We first perform a SQL query to extract a list of the different seniority levels.\n",
        "    Then, we wil extract a list containing only the unique seniority levels.\n",
        "\n",
        "    Finally, we will run a SQL query to compute the number of jobs for each seniority level.\n",
        "\"\"\"\n",
        "\n",
        "# Query to extract a list of seniority levels\n",
        "c.execute('''SELECT seniority_level\n",
        "                FROM jobs\n",
        "''')\n",
        "seniority_levels = c.fetchall()\n",
        "\n",
        "# We get a list of unique seniority levels \n",
        "seniority_levels_set = set(seniority_levels)\n",
        "unique_seniority_levels = (list(seniority_levels_set))\n",
        "\n",
        "# For loop to clean our list \n",
        "for level in range(len(unique_seniority_levels)):\n",
        "  unique_seniority_levels[level] = str(unique_seniority_levels[level]).replace('(','').replace(')','').replace(',','').replace(\"'\",'')\n",
        "\n",
        "# SQL query to compute number of jobs per level\n",
        "seniority_level_jobs = []\n",
        "for level in range(len(unique_seniority_levels)):\n",
        "  c.execute('''SELECT count(company)\n",
        "                FROM jobs\n",
        "                WHERE seniority_level like '%{}%'\n",
        "  '''.format(unique_seniority_levels[level]))\n",
        "  seniority_level_job = str(c.fetchall()[0]).replace('(','').replace(')','').replace(',','')\n",
        "  seniority_level_jobs.append(seniority_level_job)\n",
        "  print(f'''\n",
        "  Seniority Level: {unique_seniority_levels[level]}    \n",
        "  Number of jobs: {seniority_level_job}\n",
        "  ''')"
      ],
      "metadata": {
        "colab": {
          "base_uri": "https://localhost:8080/"
        },
        "id": "JDt7K_rSGTkA",
        "outputId": "f2cf026b-7394-4420-ce01-7791fa7e7c14"
      },
      "execution_count": null,
      "outputs": [
        {
          "output_type": "stream",
          "name": "stdout",
          "text": [
            "\n",
            "  Seniority Level: Full-time    \n",
            "  Number of jobs: 5\n",
            "  \n",
            "\n",
            "  Seniority Level: Not Applicable    \n",
            "  Number of jobs: 40\n",
            "  \n",
            "\n",
            "  Seniority Level: Associate    \n",
            "  Number of jobs: 7\n",
            "  \n",
            "\n",
            "  Seniority Level: Internship    \n",
            "  Number of jobs: 1\n",
            "  \n",
            "\n",
            "  Seniority Level: Contract    \n",
            "  Number of jobs: 1\n",
            "  \n",
            "\n",
            "  Seniority Level: Mid-Senior level    \n",
            "  Number of jobs: 72\n",
            "  \n",
            "\n",
            "  Seniority Level: Entry level    \n",
            "  Number of jobs: 78\n",
            "  \n"
          ]
        }
      ]
    },
    {
      "cell_type": "code",
      "source": [
        "for i in range(len(seniority_level_jobs)):\n",
        "  int(seniority_level_jobs[i])"
      ],
      "metadata": {
        "id": "DDFX-ZgqGXOd"
      },
      "execution_count": null,
      "outputs": []
    },
    {
      "cell_type": "code",
      "source": [
        "# We create a csv with the information collected \n",
        "\n",
        "seniority_level_df = pd.DataFrame({'seniority levels': unique_seniority_levels})\n",
        "seniority_level_df['number_of_jobs'] = seniority_level_jobs\n",
        "seniority_level_df.to_csv('number_of_jobs_per_level.csv')"
      ],
      "metadata": {
        "id": "Mjs0rqYm-w_O"
      },
      "execution_count": null,
      "outputs": []
    }
  ]
}